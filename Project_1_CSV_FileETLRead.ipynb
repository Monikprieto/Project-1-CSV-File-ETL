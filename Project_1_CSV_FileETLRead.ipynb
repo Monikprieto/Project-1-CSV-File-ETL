{
 "cells": [
  {
   "cell_type": "markdown",
   "id": "a5eeea9c-f3cf-4e7a-b16c-597aa7317d2d",
   "metadata": {},
   "source": [
    "Project 1: CSV File ETL Read, cleanse, bband load data into SQL"
   ]
  },
  {
   "cell_type": "markdown",
   "id": "648bc168-fffc-4cae-90a7-244b2e5e497b",
   "metadata": {},
   "source": [
    "Import libraries"
   ]
  },
  {
   "cell_type": "code",
   "execution_count": 22,
   "id": "f5b46c8b-7d1d-4cc2-9925-4ecbb36f546c",
   "metadata": {},
   "outputs": [],
   "source": [
    "import pandas as pd\n",
    "from sqlalchemy import create_engine"
   ]
  },
  {
   "cell_type": "markdown",
   "id": "c9bfab9b-b01a-408a-89ce-01836c3cdb84",
   "metadata": {},
   "source": [
    "Upload Data"
   ]
  },
  {
   "cell_type": "code",
   "execution_count": 24,
   "id": "ed93fa09-dfb1-4fe5-801d-5b7aee8c22ae",
   "metadata": {},
   "outputs": [
    {
     "name": "stdout",
     "output_type": "stream",
     "text": [
      "   FlightID    Airline  FlightNumber Origin Destination ScheduledDeparture  \\\n",
      "0         1     United          4558    ORD         MIA      9/1/2024 8:11   \n",
      "1         2      Delta          8021    LAX         MIA     9/1/2024 10:25   \n",
      "2         3  Southwest          7520    DFW         SFO     9/1/2024 16:53   \n",
      "3         4      Delta          2046    ORD         BOS     9/1/2024 14:44   \n",
      "4         5      Delta          6049    LAX         SEA      9/1/2024 1:51   \n",
      "\n",
      "  ActualDeparture ScheduledArrival   ActualArrival  DelayMinutes  \\\n",
      "0   9/1/2024 8:30   9/1/2024 12:11  9/1/2024 12:19             8   \n",
      "1  9/1/2024 10:41   9/1/2024 13:25  9/1/2024 13:27             2   \n",
      "2  9/1/2024 17:05   9/1/2024 17:53  9/1/2024 18:07            14   \n",
      "3  9/1/2024 15:04   9/1/2024 18:44  9/1/2024 18:34           -10   \n",
      "4   9/1/2024 2:08    9/1/2024 5:51   9/1/2024 6:15            24   \n",
      "\n",
      "           DelayReason  Cancelled  Diverted AircraftType TailNumber  Distance  \n",
      "0              Weather       True     False   Boeing 737     N71066      1031  \n",
      "1  Air Traffic Control       True      True  Airbus A320     N22657      1006  \n",
      "2              Weather       True      True   Boeing 737     N95611      2980  \n",
      "3                  NaN      False     False   Boeing 777     N90029      1408  \n",
      "4  Air Traffic Control      False      True   Boeing 737     N27417      2298  \n"
     ]
    }
   ],
   "source": [
    "file_path = (r'flight_delays.csv')\n",
    "df = pd.read_csv(file_path)\n",
    "print(df.head())"
   ]
  },
  {
   "cell_type": "markdown",
   "id": "23e5f9bf-753c-4af4-9740-4041c2d3b746",
   "metadata": {},
   "source": [
    "First rows of the dataset"
   ]
  },
  {
   "cell_type": "markdown",
   "id": "525bcaed-a433-4b20-9b28-c10a5fd20028",
   "metadata": {},
   "source": [
    "Dataset information"
   ]
  },
  {
   "cell_type": "code",
   "execution_count": 25,
   "id": "063a7912-9822-423f-9c4d-6ec02609811d",
   "metadata": {},
   "outputs": [
    {
     "name": "stdout",
     "output_type": "stream",
     "text": [
      "<class 'pandas.core.frame.DataFrame'>\n",
      "RangeIndex: 1048575 entries, 0 to 1048574\n",
      "Data columns (total 16 columns):\n",
      " #   Column              Non-Null Count    Dtype \n",
      "---  ------              --------------    ----- \n",
      " 0   FlightID            1048575 non-null  int64 \n",
      " 1   Airline             1048575 non-null  object\n",
      " 2   FlightNumber        1048575 non-null  int64 \n",
      " 3   Origin              1048575 non-null  object\n",
      " 4   Destination         1048575 non-null  object\n",
      " 5   ScheduledDeparture  1048575 non-null  object\n",
      " 6   ActualDeparture     1048575 non-null  object\n",
      " 7   ScheduledArrival    1048575 non-null  object\n",
      " 8   ActualArrival       1048575 non-null  object\n",
      " 9   DelayMinutes        1048575 non-null  int64 \n",
      " 10  DelayReason         767243 non-null   object\n",
      " 11  Cancelled           1048575 non-null  bool  \n",
      " 12  Diverted            1048575 non-null  bool  \n",
      " 13  AircraftType        1048575 non-null  object\n",
      " 14  TailNumber          1048575 non-null  object\n",
      " 15  Distance            1048575 non-null  int64 \n",
      "dtypes: bool(2), int64(4), object(10)\n",
      "memory usage: 114.0+ MB\n",
      "None\n"
     ]
    }
   ],
   "source": [
    "print(df.info())"
   ]
  },
  {
   "cell_type": "markdown",
   "id": "b33d0ad8-0caf-4c85-9076-24c169a305e6",
   "metadata": {},
   "source": [
    "Data cleansing"
   ]
  },
  {
   "cell_type": "markdown",
   "id": "f29859d4-aa2f-4b05-95e5-0281bfdb823e",
   "metadata": {},
   "source": [
    "Convert date columns to datetime type"
   ]
  },
  {
   "cell_type": "code",
   "execution_count": 26,
   "id": "1cc93ca1-15f8-418e-bb29-e7f9b89a2083",
   "metadata": {},
   "outputs": [],
   "source": [
    "date_columns = ['ScheduledDeparture', 'ActualDeparture', 'ScheduledArrival', 'ActualArrival']\n",
    "for col in date_columns:\n",
    "    df[col] = pd.to_datetime(df[col], errors='coerce')  "
   ]
  },
  {
   "cell_type": "markdown",
   "id": "09f67ba2-3d0d-4828-91cb-7c8b33d8942a",
   "metadata": {},
   "source": [
    "Handling null values"
   ]
  },
  {
   "cell_type": "code",
   "execution_count": 27,
   "id": "eb019dc7-79ef-45c5-84f4-c53657b4e9a8",
   "metadata": {},
   "outputs": [],
   "source": [
    "df['DelayReason'] = df['DelayReason'].fillna('Unknown')"
   ]
  },
  {
   "cell_type": "markdown",
   "id": "722a61c1-5099-4603-a04e-d6676343ea48",
   "metadata": {},
   "source": [
    "Create new columns: Actual difference between scheduled and actual arrival"
   ]
  },
  {
   "cell_type": "code",
   "execution_count": 28,
   "id": "3a5e01a7-9631-4e00-9d4a-e91c5907cea2",
   "metadata": {},
   "outputs": [],
   "source": [
    "df['ArrivalDelayMinutes'] = (df['ActualArrival'] - df['ScheduledArrival']).dt.total_seconds() / 60"
   ]
  },
  {
   "cell_type": "markdown",
   "id": "60499a9f-3c4f-422e-b745-0badf4aa00c2",
   "metadata": {},
   "source": [
    "After cleaning and transformation:"
   ]
  },
  {
   "cell_type": "code",
   "execution_count": 29,
   "id": "783194c2-3f4a-42b4-a9ad-0b5464ea3598",
   "metadata": {},
   "outputs": [
    {
     "name": "stdout",
     "output_type": "stream",
     "text": [
      "   FlightID    Airline  FlightNumber Origin Destination  ScheduledDeparture  \\\n",
      "0         1     United          4558    ORD         MIA 2024-09-01 08:11:00   \n",
      "1         2      Delta          8021    LAX         MIA 2024-09-01 10:25:00   \n",
      "2         3  Southwest          7520    DFW         SFO 2024-09-01 16:53:00   \n",
      "3         4      Delta          2046    ORD         BOS 2024-09-01 14:44:00   \n",
      "4         5      Delta          6049    LAX         SEA 2024-09-01 01:51:00   \n",
      "\n",
      "      ActualDeparture    ScheduledArrival       ActualArrival  DelayMinutes  \\\n",
      "0 2024-09-01 08:30:00 2024-09-01 12:11:00 2024-09-01 12:19:00             8   \n",
      "1 2024-09-01 10:41:00 2024-09-01 13:25:00 2024-09-01 13:27:00             2   \n",
      "2 2024-09-01 17:05:00 2024-09-01 17:53:00 2024-09-01 18:07:00            14   \n",
      "3 2024-09-01 15:04:00 2024-09-01 18:44:00 2024-09-01 18:34:00           -10   \n",
      "4 2024-09-01 02:08:00 2024-09-01 05:51:00 2024-09-01 06:15:00            24   \n",
      "\n",
      "           DelayReason  Cancelled  Diverted AircraftType TailNumber  Distance  \\\n",
      "0              Weather       True     False   Boeing 737     N71066      1031   \n",
      "1  Air Traffic Control       True      True  Airbus A320     N22657      1006   \n",
      "2              Weather       True      True   Boeing 737     N95611      2980   \n",
      "3              Unknown      False     False   Boeing 777     N90029      1408   \n",
      "4  Air Traffic Control      False      True   Boeing 737     N27417      2298   \n",
      "\n",
      "   ArrivalDelayMinutes  \n",
      "0                  8.0  \n",
      "1                  2.0  \n",
      "2                 14.0  \n",
      "3                -10.0  \n",
      "4                 24.0  \n"
     ]
    }
   ],
   "source": [
    "print(df.head())"
   ]
  },
  {
   "cell_type": "markdown",
   "id": "35ffaf4c-ccc1-41e1-8ad2-f76da1d637bc",
   "metadata": {},
   "source": [
    "Final summary"
   ]
  },
  {
   "cell_type": "code",
   "execution_count": 30,
   "id": "4b5e6252-cdb3-4fb4-bffb-a91d7699f023",
   "metadata": {},
   "outputs": [
    {
     "name": "stdout",
     "output_type": "stream",
     "text": [
      "FlightID                        int64\n",
      "Airline                        object\n",
      "FlightNumber                    int64\n",
      "Origin                         object\n",
      "Destination                    object\n",
      "ScheduledDeparture     datetime64[ns]\n",
      "ActualDeparture        datetime64[ns]\n",
      "ScheduledArrival       datetime64[ns]\n",
      "ActualArrival          datetime64[ns]\n",
      "DelayMinutes                    int64\n",
      "DelayReason                    object\n",
      "Cancelled                        bool\n",
      "Diverted                         bool\n",
      "AircraftType                   object\n",
      "TailNumber                     object\n",
      "Distance                        int64\n",
      "ArrivalDelayMinutes           float64\n",
      "dtype: object\n"
     ]
    }
   ],
   "source": [
    "print(df.dtypes)"
   ]
  },
  {
   "cell_type": "markdown",
   "id": "5e3eb9f2-8d96-4a32-921f-f386d7f2ab3b",
   "metadata": {},
   "source": [
    "Save the cleaned DataFrame to a new CSV file"
   ]
  },
  {
   "cell_type": "code",
   "execution_count": 31,
   "id": "c2dca289-ca0c-476e-ae29-e733b1efc397",
   "metadata": {},
   "outputs": [
    {
     "name": "stdout",
     "output_type": "stream",
     "text": [
      "✅ File 'cleaned_flight_delays.csv' saved successfully.\n"
     ]
    }
   ],
   "source": [
    "df.to_csv('cleaned_flight_delays.csv', index=False)\n",
    "print(\"✅ File 'cleaned_flight_delays.csv' saved successfully.\")"
   ]
  },
  {
   "cell_type": "code",
   "execution_count": null,
   "id": "e4390a55-2251-4743-be7b-5c2079117358",
   "metadata": {},
   "outputs": [],
   "source": []
  }
 ],
 "metadata": {
  "kernelspec": {
   "display_name": "Python 3 (ipykernel)",
   "language": "python",
   "name": "python3"
  },
  "language_info": {
   "codemirror_mode": {
    "name": "ipython",
    "version": 3
   },
   "file_extension": ".py",
   "mimetype": "text/x-python",
   "name": "python",
   "nbconvert_exporter": "python",
   "pygments_lexer": "ipython3",
   "version": "3.13.1"
  }
 },
 "nbformat": 4,
 "nbformat_minor": 5
}
